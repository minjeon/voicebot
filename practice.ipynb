{
 "cells": [
  {
   "cell_type": "markdown",
   "id": "b60ec12b",
   "metadata": {},
   "source": [
    "1. 사용자 입력을 음성으로 받는다.\n",
    "2. STT를 적용하여 텍스트로 변환한다.\n",
    "3. 변환된 텍스트를 입력으로 하여 프롬프트 엔지니어링을 해 api 요청을 보낸다.\n",
    "4. 반환받은 응답을 TTS를 적용하여 음성으로 재생한다.\n",
    "(+) 2에서 입력된 텍스트와 4에서 반환된 응답을 채팅 내역 보듯이 (카카오톡 대화처럼) 현출되도록 출력한다"
   ]
  },
  {
   "cell_type": "markdown",
   "id": "576807ea",
   "metadata": {},
   "source": [
    "[1단계 : 토론 설정]\n",
    "1. 봇이 먼저 질문하기 (음성으로) : 토론하고 싶은 주제와 토론하고 싶은 상대 MBTI를 말해주세요 예) \"MBTI 토론 파트너입니다! 토론하고 싶은 주제와 상대할 MBTI를 말씀해주세요\"\n",
    "2. 사용자가 주제와 MBTI 말하기 (음성으로) : 예) \"계획 여행과 즉흥 여행을 주제로 ENTP와 토론하고 싶어\"\n",
    "3. 사용자의 음성이 STT를 통해 텍스트로 변환됨 -> '주제'와 'MBTI'를 추출\n",
    "4. AI에서 system prompt 설정 : {MBTI} {주제} 어떤 규칙을 지켜야 하는지\n",
    "\n",
    "[2단계 : 토론 진행]\n",
    "1. 봇이 토론 시작을 알림 : '여행'을 주제로 ENTP와 토론을 시작하겠습니다. 당신의 의견을 먼저 말씀해주세요.\n",
    "2. 음성으로 내 의견을 말함\n",
    "3. 봇이 설정된 페르소나로 응답을 받으면 TTS로 다시 음성으로 말함"
   ]
  },
  {
   "cell_type": "markdown",
   "id": "da4999ca",
   "metadata": {},
   "source": [
    "---"
   ]
  },
  {
   "cell_type": "code",
   "execution_count": 50,
   "id": "88183e80",
   "metadata": {},
   "outputs": [],
   "source": [
    "#!pip install playsound\n",
    "#!pip install pygame"
   ]
  },
  {
   "cell_type": "code",
   "execution_count": 51,
   "id": "1eb3a04f",
   "metadata": {},
   "outputs": [],
   "source": [
    "from dotenv import load_dotenv\n",
    "import os\n",
    "\n",
    "load_dotenv()\n",
    "OPENAI_API_KEY = os.getenv('OPENAI_API_KEY')"
   ]
  },
  {
   "cell_type": "markdown",
   "id": "468ec713",
   "metadata": {},
   "source": [
    "### 텍스트 -> 음성 변환 함수 (TTS)"
   ]
  },
  {
   "cell_type": "code",
   "execution_count": 52,
   "id": "a2751ad5",
   "metadata": {},
   "outputs": [],
   "source": [
    "# 텍스트를 음성으로 변환하고 재생하는 함수\n",
    "from gtts import gTTS\n",
    "import uuid\n",
    "import pygame\n",
    "\n",
    "pygame.mixer.init()\n",
    "\n",
    "def speak(text):\n",
    "    print(f'🤖 : {text}')\n",
    "    tts = gTTS(text=text, lang='ko')            # gTTS로 텍스트를 음성으로 변환\n",
    "    filename = f'speech_{uuid.uuid4()}.mp3'     # mp3 파일로 저장\n",
    "    tts.save(filename)                          \n",
    "    \n",
    "    pygame.mixer.music.load(filename)\n",
    "    pygame.mixer.music.play()\n",
    "\n",
    "    while pygame.mixer.music.get_busy():\n",
    "        pygame.time.Clock().tick(60)\n",
    "\n",
    "    pygame.mixer.music.unload()\n",
    "    os.remove(filename)"
   ]
  },
  {
   "cell_type": "markdown",
   "id": "51afe42c",
   "metadata": {},
   "source": [
    "### 음성 -> 텍스트 변환 함수 (STT)"
   ]
  },
  {
   "cell_type": "code",
   "execution_count": 53,
   "id": "759253d2",
   "metadata": {},
   "outputs": [],
   "source": [
    "# 사용자의 음성을 텍스트로 변환하는 함수\n",
    "import speech_recognition as sr\n",
    "\n",
    "recognizer = sr.Recognizer()\n",
    "\n",
    "recognizer.pause_threshold = 1.5\n",
    "\n",
    "def listen():\n",
    "    with sr.Microphone() as source:\n",
    "        print('🤖듣는 중....')\n",
    "        #recognizer.adjust_for_ambient_noise(source, duration=1)\n",
    "        try:\n",
    "            audio = recognizer.listen(source)\n",
    "            txt = recognizer.recognize_google(audio, language='ko-KR')\n",
    "            print(f'👤사용자 : {txt}')\n",
    "            return txt\n",
    "        except sr.UnknownValueError:\n",
    "            speak('알아듣지 못했어요 다시 말씀해주세요')\n",
    "            return None"
   ]
  },
  {
   "cell_type": "markdown",
   "id": "96a266c5",
   "metadata": {},
   "source": [
    "### 텍스트에서 주제와 MBTI 추출 함수"
   ]
  },
  {
   "cell_type": "code",
   "execution_count": 54,
   "id": "5b61c1c9",
   "metadata": {},
   "outputs": [],
   "source": [
    "# 텍스트에서 주제와 MBTI를 추출하는 함수\n",
    "from openai import OpenAI\n",
    "import json\n",
    "\n",
    "def extract_debate_info(user_text):\n",
    "    client = OpenAI()\n",
    "    if not user_text:\n",
    "        return None\n",
    "    \n",
    "    system_instruction=\"\"\"\n",
    "    너는 사용자의 문장에서 '토론 주제'와 '토론하고 싶은 상대 MBTI'를 추출하는 고도의 언어 분석 전문가야\n",
    "    아래에 주어진 규칙에 따라 정보를 추출하고 JSON 형식으로만 응답해줘\n",
    "\n",
    "    ## 규칙 ##\n",
    "    1. 응답은 반드시 {'topic' : '추출된 토론 주제','mbti' : '추출된 MBTI 유형'} 형식의 JSON 객체여야 해\n",
    "    2. MBTI는 반드시 4글자 영문 대문자로 추출해줘\n",
    "    3. 만약 특정 정보를 찾을 수 없다면 해당 값은 추출 실패로 지정해줘\n",
    "    4. 토론 주제는 문장에서 핵심적인 내용만 간결하게 요약하여 추출해줘\n",
    "    5. 'A vs B'와 같이 두 가지 선택지 중 하나를 고르는 밸런스 게임 주제를 정확하게 인식해야 해. 'vs'를 '대'나 '돼'등으로 발음해도 문맥을 파악하여 'A vs B' 전체를 하나의 주제로 추출해야 해\n",
    "\n",
    "    ## 규칙 5번에 대한 예시 ##\n",
    "    - 입력 : 10분 장기자랑 하기 돼 친한 친구 10년 못 보기 entp\n",
    "    - 출력 : `{'topic': '10분 장기자랑 하기 vs 친한 친구 10년 못 보기', 'mbti': 'ENTP'}`\n",
    "\n",
    "\"\"\"\n",
    "    user_message = f\"\"\"\n",
    "    다음 문장에서 토론 주제와 MBTI를 추출해줘 \n",
    "    문장 : {user_text}\n",
    "    \"\"\"\n",
    "\n",
    "    response = client.chat.completions.create(\n",
    "        model='gpt-4o',\n",
    "        messages=[\n",
    "            {'role': 'system', 'content': system_instruction},\n",
    "            {'role': 'user', 'content': user_message}\n",
    "        ],\n",
    "        response_format={'type': 'json_object'},\n",
    "        temperature=0.1,\n",
    "        max_tokens=4096,\n",
    "        top_p=1\n",
    "    )\n",
    "    return json.loads(response.choices[0].message.content)"
   ]
  },
  {
   "cell_type": "markdown",
   "id": "c8e5f40c",
   "metadata": {},
   "source": [
    "### 토론 진행 함수"
   ]
  },
  {
   "cell_type": "code",
   "execution_count": 55,
   "id": "2a88a4f8",
   "metadata": {},
   "outputs": [],
   "source": [
    "# 토론 진행 함수\n",
    "def start_debate(topic, mbti):\n",
    "    client = OpenAI()\n",
    "    debate_system_instruction = f\"\"\"\n",
    "    넌 MBTI가 {mbti}인 토론가야. 주어진 {mbti}의 성향과 가치관에 완전히 몰입해야해\n",
    "    지금부터 '{topic}'이라는 주제로 사용자와 토론을 진행할거야\n",
    "    {mbti}의 관점에서 너의 의견을 논리적이고, 설득력 있으면서 재치있게 주장해\n",
    "\n",
    "    ## 응답 규칙 ##\n",
    "    1. 항상 대화의 맥락을 기억하고 이전 대화 내용과 연결되는 답변을 해야 해\n",
    "    2. 답변은 항상 한국어로, 그리고 2문장 내외로 간결하게 말해줘\n",
    "\n",
    "    ## 토론 전략 ##\n",
    "    1. 사용자의 의견이 너의 가치관과 다르다면 명확한 근거를 들어 반박해. 토론을 흥미롭게 만드는 게 너의 역할이야\n",
    "\"\"\"\n",
    "    chat_history = [{\"role\": \"system\", \"content\": debate_system_instruction}]\n",
    "    opening_message = f'자 그럼 {topic}을 주제로 {mbti}와의 토론을 시작하겠습니다. 의견을 먼저 말씀해주세요'\n",
    "    speak(opening_message)\n",
    "\n",
    "    # 토론 시작\n",
    "    while True:\n",
    "        user_opinion = listen()\n",
    "        if not user_opinion:\n",
    "            continue\n",
    "        if user_opinion in ['그만', '종료', '끝내자']:\n",
    "            speak('토론을 마무리합니다')\n",
    "            break\n",
    "\n",
    "        chat_history.append({'role':'user', 'content':user_opinion})\n",
    "\n",
    "        response = client.chat.completions.create(\n",
    "            model='gpt-4o',\n",
    "            messages=chat_history,\n",
    "            temperature=0.6\n",
    "        )\n",
    "        bot_response = response.choices[0].message.content\n",
    "\n",
    "        chat_history.append({'role':'assistant', 'content':bot_response})\n",
    "        speak(bot_response)\n",
    "    "
   ]
  },
  {
   "cell_type": "markdown",
   "id": "979b6b7e",
   "metadata": {},
   "source": [
    "### 실행 함수"
   ]
  },
  {
   "cell_type": "code",
   "execution_count": 56,
   "id": "09a62a55",
   "metadata": {},
   "outputs": [
    {
     "name": "stdout",
     "output_type": "stream",
     "text": [
      "🤖 : 안녕하세요, 저는 MBTI 토론 파트너입니다! 토론하고 싶은 주제와 상대할 MBTI를 말씀해주세요\n",
      "🤖듣는 중....\n",
      "👤사용자 : 여행 계획에 대해서 entp\n",
      "🤖 : 자 그럼 여행 계획을 주제로 ENTP와의 토론을 시작하겠습니다. 의견을 먼저 말씀해주세요\n",
      "🤖듣는 중....\n",
      "👤사용자 : 나는 여행 계획 짜는게 좋아\n",
      "🤖 : 여행 계획 짜는 것도 좋지만, 즉흥적인 여행이 주는 자유로움과 예상치 못한 경험을 놓치고 있는 건 아닐까? 계획에 얽매이지 않고 순간의 기회를 잡아보는 건 어떨까?\n",
      "🤖듣는 중....\n",
      "👤사용자 : 그러다가 맛없는 음식 먹게 되면 어떡해\n",
      "🤖 : 맛없는 음식도 일종의 경험이 될 수 있어! 맛집을 찾는 과정에서 우연히 발견한 음식이 오히려 가장 기억에 남을 수도 있지 않을까? 실패를 두려워하면 새로운 발견의 기회를 놓칠 수 있어.\n",
      "🤖듣는 중....\n",
      "👤사용자 : 그렇지만 넌 여행 가서 맛없는 음식 먹고 싶어\n",
      "🤖 : 물론 맛있는 음식을 먹는 게 좋겠지만, 때로는 그 반대의 경험도 이야깃거리가 될 수 있어. 모든 경험은 나중에 웃으며 이야기할 수 있는 추억이 되니까!\n",
      "🤖듣는 중....\n",
      "👤사용자 : 종료\n",
      "🤖 : 토론을 마무리합니다\n"
     ]
    }
   ],
   "source": [
    "# 실행 함수\n",
    "def main():\n",
    "    # 1단계 : 봇의 질문\n",
    "    initial_question = '안녕하세요, 저는 MBTI 토론 파트너입니다! 토론하고 싶은 주제와 상대할 MBTI를 말씀해주세요'\n",
    "    speak(initial_question)\n",
    "    while True:\n",
    "        # 2단계 : 사용자의 답변\n",
    "        user_input = listen()\n",
    "\n",
    "        # 3단계 : '주제'와 'MBTI' 추출\n",
    "        if not user_input:\n",
    "            continue\n",
    "\n",
    "        debate_info = extract_debate_info(user_input)\n",
    "\n",
    "        if debate_info and debate_info.get('topic') != '추출 실패' and debate_info.get('mbti') != '추출 실패':\n",
    "            topic = debate_info['topic']\n",
    "            mbti = debate_info['mbti']\n",
    "            start_debate(topic, mbti)\n",
    "            break\n",
    "        else:\n",
    "            speak('죄송하지만, 주제와 MBTI를 정확히 파악하지 못했어요. 다시 한 번 말씀해주세요')\n",
    "    pygame.quit()\n",
    "\n",
    "if __name__ == \"__main__\":\n",
    "    main()"
   ]
  },
  {
   "cell_type": "markdown",
   "id": "df3bb7f5",
   "metadata": {},
   "source": [
    "---"
   ]
  }
 ],
 "metadata": {
  "kernelspec": {
   "display_name": "llm_env",
   "language": "python",
   "name": "python3"
  },
  "language_info": {
   "codemirror_mode": {
    "name": "ipython",
    "version": 3
   },
   "file_extension": ".py",
   "mimetype": "text/x-python",
   "name": "python",
   "nbconvert_exporter": "python",
   "pygments_lexer": "ipython3",
   "version": "3.12.11"
  }
 },
 "nbformat": 4,
 "nbformat_minor": 5
}
